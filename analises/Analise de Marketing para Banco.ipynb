{
 "cells": [
  {
   "cell_type": "code",
   "execution_count": 1,
   "metadata": {},
   "outputs": [
    {
     "name": "stderr",
     "output_type": "stream",
     "text": [
      "Using TensorFlow backend.\n",
      "/home/natan/.local/lib/python3.6/site-packages/tensorflow/python/framework/dtypes.py:523: FutureWarning: Passing (type, 1) or '1type' as a synonym of type is deprecated; in a future version of numpy, it will be understood as (type, (1,)) / '(1,)type'.\n",
      "  _np_qint8 = np.dtype([(\"qint8\", np.int8, 1)])\n",
      "/home/natan/.local/lib/python3.6/site-packages/tensorflow/python/framework/dtypes.py:524: FutureWarning: Passing (type, 1) or '1type' as a synonym of type is deprecated; in a future version of numpy, it will be understood as (type, (1,)) / '(1,)type'.\n",
      "  _np_quint8 = np.dtype([(\"quint8\", np.uint8, 1)])\n",
      "/home/natan/.local/lib/python3.6/site-packages/tensorflow/python/framework/dtypes.py:525: FutureWarning: Passing (type, 1) or '1type' as a synonym of type is deprecated; in a future version of numpy, it will be understood as (type, (1,)) / '(1,)type'.\n",
      "  _np_qint16 = np.dtype([(\"qint16\", np.int16, 1)])\n",
      "/home/natan/.local/lib/python3.6/site-packages/tensorflow/python/framework/dtypes.py:526: FutureWarning: Passing (type, 1) or '1type' as a synonym of type is deprecated; in a future version of numpy, it will be understood as (type, (1,)) / '(1,)type'.\n",
      "  _np_quint16 = np.dtype([(\"quint16\", np.uint16, 1)])\n",
      "/home/natan/.local/lib/python3.6/site-packages/tensorflow/python/framework/dtypes.py:527: FutureWarning: Passing (type, 1) or '1type' as a synonym of type is deprecated; in a future version of numpy, it will be understood as (type, (1,)) / '(1,)type'.\n",
      "  _np_qint32 = np.dtype([(\"qint32\", np.int32, 1)])\n",
      "/home/natan/.local/lib/python3.6/site-packages/tensorflow/python/framework/dtypes.py:532: FutureWarning: Passing (type, 1) or '1type' as a synonym of type is deprecated; in a future version of numpy, it will be understood as (type, (1,)) / '(1,)type'.\n",
      "  np_resource = np.dtype([(\"resource\", np.ubyte, 1)])\n"
     ]
    }
   ],
   "source": [
    "from imblearn.under_sampling import RandomUnderSampler\n",
    "from scipy.stats.stats import pearsonr\n",
    "from scipy.stats.stats import f_oneway\n",
    "from sklearn.ensemble import RandomForestClassifier\n",
    "from sklearn.metrics import accuracy_score\n",
    "from sklearn.metrics import recall_score\n",
    "from sklearn.metrics import precision_score\n",
    "from statsmodels.stats.multicomp import pairwise_tukeyhsd\n",
    "from statsmodels.stats.multicomp import MultiComparison\n",
    "\n",
    "import matplotlib.pyplot as plt\n",
    "import pandas as pd\n",
    "import seaborn as sns"
   ]
  },
  {
   "cell_type": "markdown",
   "metadata": {},
   "source": [
    "## Importação dos dados\n",
    "Nessa etapa estou importando os dados e trocando os valores de texto da coluna y para 1 quando for `yes` e 0 quando for `no`"
   ]
  },
  {
   "cell_type": "code",
   "execution_count": 2,
   "metadata": {},
   "outputs": [],
   "source": [
    "bank = pd.read_csv('../dados/bank-full.csv', sep=';', decimal=',')"
   ]
  },
  {
   "cell_type": "markdown",
   "metadata": {},
   "source": [
    "Transformando todas as variveis que possuem apenas dois valores em `1 | 0`"
   ]
  },
  {
   "cell_type": "code",
   "execution_count": 3,
   "metadata": {},
   "outputs": [],
   "source": [
    "bank['y'] = bank['y'].apply(lambda x: 1 if x == 'yes' else 0)\n",
    "bank['default'] = bank['default'].apply(lambda x: 1 if x == 'yes' else 0)\n",
    "bank['housing'] = bank['housing'].apply(lambda x: 1 if x == 'yes' else 0)\n",
    "bank['loan'] = bank['loan'].apply(lambda x: 1 if x == 'yes' else 0)"
   ]
  },
  {
   "cell_type": "markdown",
   "metadata": {},
   "source": [
    "Descrição das colunas quantitavas utilizando algumas métricas estatisticas."
   ]
  },
  {
   "cell_type": "code",
   "execution_count": 4,
   "metadata": {},
   "outputs": [
    {
     "data": {
      "text/html": [
       "<div>\n",
       "<style scoped>\n",
       "    .dataframe tbody tr th:only-of-type {\n",
       "        vertical-align: middle;\n",
       "    }\n",
       "\n",
       "    .dataframe tbody tr th {\n",
       "        vertical-align: top;\n",
       "    }\n",
       "\n",
       "    .dataframe thead th {\n",
       "        text-align: right;\n",
       "    }\n",
       "</style>\n",
       "<table border=\"1\" class=\"dataframe\">\n",
       "  <thead>\n",
       "    <tr style=\"text-align: right;\">\n",
       "      <th></th>\n",
       "      <th>age</th>\n",
       "      <th>default</th>\n",
       "      <th>balance</th>\n",
       "      <th>housing</th>\n",
       "      <th>loan</th>\n",
       "      <th>day</th>\n",
       "      <th>duration</th>\n",
       "      <th>campaign</th>\n",
       "      <th>pdays</th>\n",
       "      <th>previous</th>\n",
       "      <th>y</th>\n",
       "    </tr>\n",
       "  </thead>\n",
       "  <tbody>\n",
       "    <tr>\n",
       "      <th>count</th>\n",
       "      <td>45211.000000</td>\n",
       "      <td>45211.000000</td>\n",
       "      <td>45211.000000</td>\n",
       "      <td>45211.000000</td>\n",
       "      <td>45211.000000</td>\n",
       "      <td>45211.000000</td>\n",
       "      <td>45211.000000</td>\n",
       "      <td>45211.000000</td>\n",
       "      <td>45211.000000</td>\n",
       "      <td>45211.000000</td>\n",
       "      <td>45211.000000</td>\n",
       "    </tr>\n",
       "    <tr>\n",
       "      <th>mean</th>\n",
       "      <td>40.936210</td>\n",
       "      <td>0.018027</td>\n",
       "      <td>1362.272058</td>\n",
       "      <td>0.555838</td>\n",
       "      <td>0.160226</td>\n",
       "      <td>15.806419</td>\n",
       "      <td>258.163080</td>\n",
       "      <td>2.763841</td>\n",
       "      <td>40.197828</td>\n",
       "      <td>0.580323</td>\n",
       "      <td>0.116985</td>\n",
       "    </tr>\n",
       "    <tr>\n",
       "      <th>std</th>\n",
       "      <td>10.618762</td>\n",
       "      <td>0.133049</td>\n",
       "      <td>3044.765829</td>\n",
       "      <td>0.496878</td>\n",
       "      <td>0.366820</td>\n",
       "      <td>8.322476</td>\n",
       "      <td>257.527812</td>\n",
       "      <td>3.098021</td>\n",
       "      <td>100.128746</td>\n",
       "      <td>2.303441</td>\n",
       "      <td>0.321406</td>\n",
       "    </tr>\n",
       "    <tr>\n",
       "      <th>min</th>\n",
       "      <td>18.000000</td>\n",
       "      <td>0.000000</td>\n",
       "      <td>-8019.000000</td>\n",
       "      <td>0.000000</td>\n",
       "      <td>0.000000</td>\n",
       "      <td>1.000000</td>\n",
       "      <td>0.000000</td>\n",
       "      <td>1.000000</td>\n",
       "      <td>-1.000000</td>\n",
       "      <td>0.000000</td>\n",
       "      <td>0.000000</td>\n",
       "    </tr>\n",
       "    <tr>\n",
       "      <th>25%</th>\n",
       "      <td>33.000000</td>\n",
       "      <td>0.000000</td>\n",
       "      <td>72.000000</td>\n",
       "      <td>0.000000</td>\n",
       "      <td>0.000000</td>\n",
       "      <td>8.000000</td>\n",
       "      <td>103.000000</td>\n",
       "      <td>1.000000</td>\n",
       "      <td>-1.000000</td>\n",
       "      <td>0.000000</td>\n",
       "      <td>0.000000</td>\n",
       "    </tr>\n",
       "    <tr>\n",
       "      <th>50%</th>\n",
       "      <td>39.000000</td>\n",
       "      <td>0.000000</td>\n",
       "      <td>448.000000</td>\n",
       "      <td>1.000000</td>\n",
       "      <td>0.000000</td>\n",
       "      <td>16.000000</td>\n",
       "      <td>180.000000</td>\n",
       "      <td>2.000000</td>\n",
       "      <td>-1.000000</td>\n",
       "      <td>0.000000</td>\n",
       "      <td>0.000000</td>\n",
       "    </tr>\n",
       "    <tr>\n",
       "      <th>75%</th>\n",
       "      <td>48.000000</td>\n",
       "      <td>0.000000</td>\n",
       "      <td>1428.000000</td>\n",
       "      <td>1.000000</td>\n",
       "      <td>0.000000</td>\n",
       "      <td>21.000000</td>\n",
       "      <td>319.000000</td>\n",
       "      <td>3.000000</td>\n",
       "      <td>-1.000000</td>\n",
       "      <td>0.000000</td>\n",
       "      <td>0.000000</td>\n",
       "    </tr>\n",
       "    <tr>\n",
       "      <th>max</th>\n",
       "      <td>95.000000</td>\n",
       "      <td>1.000000</td>\n",
       "      <td>102127.000000</td>\n",
       "      <td>1.000000</td>\n",
       "      <td>1.000000</td>\n",
       "      <td>31.000000</td>\n",
       "      <td>4918.000000</td>\n",
       "      <td>63.000000</td>\n",
       "      <td>871.000000</td>\n",
       "      <td>275.000000</td>\n",
       "      <td>1.000000</td>\n",
       "    </tr>\n",
       "  </tbody>\n",
       "</table>\n",
       "</div>"
      ],
      "text/plain": [
       "                age       default        balance       housing          loan  \\\n",
       "count  45211.000000  45211.000000   45211.000000  45211.000000  45211.000000   \n",
       "mean      40.936210      0.018027    1362.272058      0.555838      0.160226   \n",
       "std       10.618762      0.133049    3044.765829      0.496878      0.366820   \n",
       "min       18.000000      0.000000   -8019.000000      0.000000      0.000000   \n",
       "25%       33.000000      0.000000      72.000000      0.000000      0.000000   \n",
       "50%       39.000000      0.000000     448.000000      1.000000      0.000000   \n",
       "75%       48.000000      0.000000    1428.000000      1.000000      0.000000   \n",
       "max       95.000000      1.000000  102127.000000      1.000000      1.000000   \n",
       "\n",
       "                day      duration      campaign         pdays      previous  \\\n",
       "count  45211.000000  45211.000000  45211.000000  45211.000000  45211.000000   \n",
       "mean      15.806419    258.163080      2.763841     40.197828      0.580323   \n",
       "std        8.322476    257.527812      3.098021    100.128746      2.303441   \n",
       "min        1.000000      0.000000      1.000000     -1.000000      0.000000   \n",
       "25%        8.000000    103.000000      1.000000     -1.000000      0.000000   \n",
       "50%       16.000000    180.000000      2.000000     -1.000000      0.000000   \n",
       "75%       21.000000    319.000000      3.000000     -1.000000      0.000000   \n",
       "max       31.000000   4918.000000     63.000000    871.000000    275.000000   \n",
       "\n",
       "                  y  \n",
       "count  45211.000000  \n",
       "mean       0.116985  \n",
       "std        0.321406  \n",
       "min        0.000000  \n",
       "25%        0.000000  \n",
       "50%        0.000000  \n",
       "75%        0.000000  \n",
       "max        1.000000  "
      ]
     },
     "execution_count": 4,
     "metadata": {},
     "output_type": "execute_result"
    }
   ],
   "source": [
    "bank.describe()"
   ]
  },
  {
   "cell_type": "markdown",
   "metadata": {},
   "source": [
    "## Pergunta 1: Qual profissão tem mais tendência a fazer um empréstimo ? De qual tipo ?"
   ]
  },
  {
   "cell_type": "code",
   "execution_count": 5,
   "metadata": {},
   "outputs": [],
   "source": [
    "plot_base = bank.groupby(by='job').agg({ 'previous':'count', 'y':'sum' }).reset_index()\n",
    "plot_base = plot_base.rename({ 'previous':'total' }, axis='columns')\n",
    "plot_base['per_y'] = round(plot_base['y'] / plot_base['total'], 2) * 100"
   ]
  },
  {
   "cell_type": "code",
   "execution_count": 6,
   "metadata": {},
   "outputs": [
    {
     "data": {
      "image/png": "[encoded data removed]",
      "text/plain": [
       "<Figure size 1080x504 with 1 Axes>"
      ]
     },
     "metadata": {},
     "output_type": "display_data"
    }
   ],
   "source": [
    "plt.figure(figsize=[15, 7])\n",
    "\n",
    "plt.title('Adesão à campanha por profissão')\n",
    "plt.bar(plot_base['job'], 100)\n",
    "plt.bar(plot_base['job'], plot_base['per_y'])\n",
    "\n",
    "plt.yticks(range(0, 105, 5))\n",
    "\n",
    "plt.grid(True, axis='y')\n",
    "\n",
    "plt.show()"
   ]
  },
  {
   "cell_type": "code",
   "execution_count": 7,
   "metadata": {},
   "outputs": [
    {
     "name": "stdout",
     "output_type": "stream",
     "text": [
      "f-value: 77.42\n",
      "p-value: 0.0\n"
     ]
    }
   ],
   "source": [
    "f, p = f_oneway(\n",
    "    bank[bank['job'] == 'management']['y'],\n",
    "    bank[bank['job'] == 'technician']['y'],\n",
    "    bank[bank['job'] == 'entrepreneur']['y'],\n",
    "    bank[bank['job'] == 'blue-collar']['y'],\n",
    "    bank[bank['job'] == 'unknown']['y'],\n",
    "    bank[bank['job'] == 'retired']['y'],\n",
    "    bank[bank['job'] == 'admin.']['y'],\n",
    "    bank[bank['job'] == 'services']['y'],\n",
    "    bank[bank['job'] == 'self-employed']['y'],\n",
    "    bank[bank['job'] == 'unemployed']['y'],\n",
    "    bank[bank['job'] == 'housemaid']['y'],\n",
    "    bank[bank['job'] == 'student']['y'],\n",
    ")\n",
    "\n",
    "print('f-value: ' + str(round(f, 2)))\n",
    "print('p-value: ' + str(round(p, 2)))"
   ]
  },
  {
   "cell_type": "code",
   "execution_count": 8,
   "metadata": {},
   "outputs": [
    {
     "name": "stdout",
     "output_type": "stream",
     "text": [
      "     Multiple Comparison of Means - Tukey HSD,FWER=0.05    \n",
      "===========================================================\n",
      "    group1        group2    meandiff  lower   upper  reject\n",
      "-----------------------------------------------------------\n",
      "    admin.     blue-collar  -0.0493  -0.0672 -0.0314  True \n",
      "    admin.     entrepreneur -0.0393  -0.0699 -0.0087  True \n",
      "    admin.      housemaid   -0.0341   -0.067 -0.0012  True \n",
      "    admin.      management   0.0155  -0.0025  0.0335 False \n",
      "    admin.       retired     0.1059   0.0797  0.1321  True \n",
      "    admin.    self-employed -0.0036  -0.0335  0.0263 False \n",
      "    admin.       services   -0.0332  -0.0549 -0.0115  True \n",
      "    admin.       student     0.1648   0.1278  0.2017  True \n",
      "    admin.      technician  -0.0115  -0.0302  0.0073 False \n",
      "    admin.      unemployed   0.033    0.0007  0.0653  True \n",
      "    admin.       unknown     -0.004   -0.067  0.059  False \n",
      " blue-collar   entrepreneur   0.01    -0.019  0.0389 False \n",
      " blue-collar    housemaid    0.0152  -0.0162  0.0465 False \n",
      " blue-collar    management   0.0648   0.0498  0.0798  True \n",
      " blue-collar     retired     0.1552   0.1309  0.1795  True \n",
      " blue-collar  self-employed  0.0457   0.0174  0.0739  True \n",
      " blue-collar     services    0.0161  -0.0032  0.0354 False \n",
      " blue-collar     student     0.214    0.1784  0.2496  True \n",
      " blue-collar    technician   0.0378   0.0219  0.0538  True \n",
      " blue-collar    unemployed   0.0823   0.0516  0.113   True \n",
      " blue-collar     unknown     0.0453  -0.0169  0.1075 False \n",
      " entrepreneur   housemaid    0.0052  -0.0348  0.0452 False \n",
      " entrepreneur   management   0.0548   0.0258  0.0839  True \n",
      " entrepreneur    retired     0.1452   0.1105  0.1799  True \n",
      " entrepreneur self-employed  0.0357  -0.0019  0.0733 False \n",
      " entrepreneur    services    0.0061  -0.0253  0.0376 False \n",
      " entrepreneur    student     0.2041   0.1607  0.2475  True \n",
      " entrepreneur   technician   0.0279  -0.0017  0.0574 False \n",
      " entrepreneur   unemployed   0.0723   0.0328  0.1118  True \n",
      " entrepreneur    unknown     0.0353  -0.0317  0.1023 False \n",
      "  housemaid     management   0.0497   0.0182  0.0811  True \n",
      "  housemaid      retired      0.14    0.1032  0.1768  True \n",
      "  housemaid   self-employed  0.0305   -0.009   0.07  False \n",
      "  housemaid      services    0.0009  -0.0328  0.0346 False \n",
      "  housemaid      student     0.1989   0.1538  0.2439  True \n",
      "  housemaid     technician   0.0227  -0.0092  0.0545 False \n",
      "  housemaid     unemployed   0.0671   0.0258  0.1084  True \n",
      "  housemaid      unknown     0.0302  -0.0379  0.0982 False \n",
      "  management     retired     0.0904   0.066   0.1147  True \n",
      "  management  self-employed -0.0191  -0.0474  0.0092 False \n",
      "  management     services   -0.0487  -0.0681 -0.0294  True \n",
      "  management     student     0.1492   0.1136  0.1849  True \n",
      "  management    technician   -0.027   -0.043  -0.011  True \n",
      "  management    unemployed   0.0175  -0.0133  0.0482 False \n",
      "  management     unknown    -0.0195  -0.0818  0.0428 False \n",
      "   retired    self-employed -0.1095  -0.1436 -0.0754  True \n",
      "   retired       services   -0.1391  -0.1663 -0.1119  True \n",
      "   retired       student     0.0589   0.0185  0.0993  True \n",
      "   retired      technician  -0.1173  -0.1423 -0.0924  True \n",
      "   retired      unemployed  -0.0729  -0.1091 -0.0367  True \n",
      "   retired       unknown    -0.1099   -0.175 -0.0447  True \n",
      "self-employed    services   -0.0296  -0.0604  0.0012 False \n",
      "self-employed    student     0.1684   0.1254  0.2113  True \n",
      "self-employed   technician  -0.0079  -0.0366  0.0209 False \n",
      "self-employed   unemployed   0.0366  -0.0024  0.0756 False \n",
      "self-employed    unknown    -0.0004  -0.0671  0.0663 False \n",
      "   services      student     0.198    0.1603  0.2356  True \n",
      "   services     technician   0.0217   0.0017  0.0418  True \n",
      "   services     unemployed   0.0662   0.0331  0.0992  True \n",
      "   services      unknown     0.0292  -0.0342  0.0926 False \n",
      "   student      technician  -0.1762  -0.2122 -0.1402  True \n",
      "   student      unemployed  -0.1318  -0.1763 -0.0872  True \n",
      "   student       unknown    -0.1687  -0.2388 -0.0986  True \n",
      "  technician    unemployed   0.0445   0.0132  0.0757  True \n",
      "  technician     unknown     0.0075   -0.055   0.07  False \n",
      "  unemployed     unknown     -0.037  -0.1047  0.0308 False \n",
      "-----------------------------------------------------------\n"
     ]
    }
   ],
   "source": [
    "mc = MultiComparison(bank['y'], bank['job'])\n",
    "result = mc.tukeyhsd()\n",
    " \n",
    "print(result)"
   ]
  },
  {
   "cell_type": "markdown",
   "metadata": {},
   "source": [
    ">A partir do grafico a cima podemos constatar que as profissões `retired` e `student` aderem mais a campanha de marketing. Utilizando um teste estatistico para validar as diferenças tambem podemos dizer que a diferença na conversão da campanha para as duas profissões é estatisticamente relevante."
   ]
  },
  {
   "cell_type": "markdown",
   "metadata": {},
   "source": [
    "## 2. Fazendo uma relação entre número de contatos e sucesso da campanha quais são os pontos relevantes a serem observados ?"
   ]
  },
  {
   "cell_type": "code",
   "execution_count": 9,
   "metadata": {},
   "outputs": [],
   "source": [
    "def correlation(base, col, value):\n",
    "    query_string = col + ' == \"' + value + '\"'\n",
    "    return round(pearsonr(base.query(query_string)['campaign'], base.query(query_string)['y'])[0], 2)"
   ]
  },
  {
   "cell_type": "code",
   "execution_count": 10,
   "metadata": {},
   "outputs": [
    {
     "name": "stdout",
     "output_type": "stream",
     "text": [
      "Correlação entre o numero de contatos na campanha e o sucesso da campanha: -0.07\n"
     ]
    }
   ],
   "source": [
    "pearson_correlation = round(pearsonr(bank['campaign'], bank['y'])[0], 2)\n",
    "\n",
    "print('Correlação entre o numero de contatos na campanha e o sucesso da campanha: ' + str(pearson_correlation))"
   ]
  },
  {
   "cell_type": "code",
   "execution_count": 11,
   "metadata": {},
   "outputs": [
    {
     "name": "stdout",
     "output_type": "stream",
     "text": [
      "Correlação entre o numero de atendimentos e o sucesso da campanha por profissão\n",
      "\n",
      "management: -0.08\n",
      "technician: -0.08\n",
      "entrepreneur: 0.01\n",
      "blue-collar: -0.05\n",
      "unknown: -0.13\n",
      "retired: -0.11\n",
      "admin.: -0.07\n",
      "services: -0.06\n",
      "self-employed: -0.09\n",
      "unemployed: -0.08\n",
      "housemaid: -0.03\n",
      "student: -0.08\n"
     ]
    }
   ],
   "source": [
    "print('Correlação entre o numero de atendimentos e o sucesso da campanha por profissão\\n')\n",
    "for job in bank['job'].unique():\n",
    "    print(job + ': ' + str(correlation(bank, 'job', job)))"
   ]
  },
  {
   "cell_type": "code",
   "execution_count": 12,
   "metadata": {},
   "outputs": [
    {
     "name": "stdout",
     "output_type": "stream",
     "text": [
      "Correlação entre o numero de atendimentos e o sucesso da campanha por estado civil\n",
      "\n",
      "married: -0.07\n",
      "single: -0.08\n",
      "divorced: -0.07\n"
     ]
    }
   ],
   "source": [
    "print('Correlação entre o numero de atendimentos e o sucesso da campanha por estado civil\\n')\n",
    "for marital in bank['marital'].unique():\n",
    "    print(marital + ': ' + str(correlation(bank, 'marital', marital)))"
   ]
  },
  {
   "cell_type": "markdown",
   "metadata": {},
   "source": [
    ">Baseando-se nas correlações entre o numero de ligações e a adesão à campanhas não existe uma correlação forte entre o numero de ligações e o numero de campanhas. Mesmo olhando em profissões ou estados civis especificos."
   ]
  },
  {
   "cell_type": "markdown",
   "metadata": {},
   "source": [
    "## 3. Baseando-se nos resultados de adesão desta campanha qual o número médio e o máximo de ligações que você indica para otimizar a adesão ?"
   ]
  },
  {
   "cell_type": "code",
   "execution_count": 13,
   "metadata": {},
   "outputs": [],
   "source": [
    "call_base = bank.query('y == 1').groupby(by='campaign')['y'].sum().reset_index()\n",
    "call_base = call_base.rename({ 'y':'qtd' }, axis=1)\n",
    "\n",
    "call_base['cum_qtd'] = round(call_base['qtd'].cumsum() / call_base['qtd'].sum(), 4) * 100"
   ]
  },
  {
   "cell_type": "code",
   "execution_count": 14,
   "metadata": {},
   "outputs": [
    {
     "data": {
      "image/png": "[encoded data removed]",
      "text/plain": [
       "<Figure size 432x288 with 2 Axes>"
      ]
     },
     "metadata": {},
     "output_type": "display_data"
    }
   ],
   "source": [
    "fig, ax1 = plt.subplots()\n",
    "\n",
    "ax1.bar(call_base['campaign'], call_base['qtd'], color='C0')\n",
    "\n",
    "ax2 = ax1.twinx()\n",
    "ax2.plot(call_base['campaign'], call_base['cum_qtd'], color='C1')\n",
    "\n",
    "plt.xticks(call_base['campaign'].unique())\n",
    "plt.show()"
   ]
  },
  {
   "cell_type": "code",
   "execution_count": 15,
   "metadata": {},
   "outputs": [
    {
     "data": {
      "text/plain": [
       "count    5289.000000\n",
       "mean        2.141047\n",
       "std         1.921826\n",
       "min         1.000000\n",
       "25%         1.000000\n",
       "50%         2.000000\n",
       "75%         3.000000\n",
       "max        32.000000\n",
       "Name: campaign, dtype: float64"
      ]
     },
     "execution_count": 15,
     "metadata": {},
     "output_type": "execute_result"
    }
   ],
   "source": [
    "bank.query('y == 1')['campaign'].describe()"
   ]
  },
  {
   "cell_type": "code",
   "execution_count": 16,
   "metadata": {},
   "outputs": [
    {
     "data": {
      "text/html": [
       "<div>\n",
       "<style scoped>\n",
       "    .dataframe tbody tr th:only-of-type {\n",
       "        vertical-align: middle;\n",
       "    }\n",
       "\n",
       "    .dataframe tbody tr th {\n",
       "        vertical-align: top;\n",
       "    }\n",
       "\n",
       "    .dataframe thead th {\n",
       "        text-align: right;\n",
       "    }\n",
       "</style>\n",
       "<table border=\"1\" class=\"dataframe\">\n",
       "  <thead>\n",
       "    <tr style=\"text-align: right;\">\n",
       "      <th></th>\n",
       "      <th>campaign</th>\n",
       "      <th>qtd</th>\n",
       "      <th>cum_qtd</th>\n",
       "    </tr>\n",
       "  </thead>\n",
       "  <tbody>\n",
       "    <tr>\n",
       "      <th>0</th>\n",
       "      <td>1</td>\n",
       "      <td>2561</td>\n",
       "      <td>48.42</td>\n",
       "    </tr>\n",
       "    <tr>\n",
       "      <th>1</th>\n",
       "      <td>2</td>\n",
       "      <td>1401</td>\n",
       "      <td>74.91</td>\n",
       "    </tr>\n",
       "    <tr>\n",
       "      <th>2</th>\n",
       "      <td>3</td>\n",
       "      <td>618</td>\n",
       "      <td>86.59</td>\n",
       "    </tr>\n",
       "    <tr>\n",
       "      <th>3</th>\n",
       "      <td>4</td>\n",
       "      <td>317</td>\n",
       "      <td>92.59</td>\n",
       "    </tr>\n",
       "    <tr>\n",
       "      <th>4</th>\n",
       "      <td>5</td>\n",
       "      <td>139</td>\n",
       "      <td>95.22</td>\n",
       "    </tr>\n",
       "    <tr>\n",
       "      <th>5</th>\n",
       "      <td>6</td>\n",
       "      <td>92</td>\n",
       "      <td>96.96</td>\n",
       "    </tr>\n",
       "    <tr>\n",
       "      <th>6</th>\n",
       "      <td>7</td>\n",
       "      <td>47</td>\n",
       "      <td>97.84</td>\n",
       "    </tr>\n",
       "    <tr>\n",
       "      <th>7</th>\n",
       "      <td>8</td>\n",
       "      <td>32</td>\n",
       "      <td>98.45</td>\n",
       "    </tr>\n",
       "    <tr>\n",
       "      <th>8</th>\n",
       "      <td>9</td>\n",
       "      <td>21</td>\n",
       "      <td>98.85</td>\n",
       "    </tr>\n",
       "    <tr>\n",
       "      <th>9</th>\n",
       "      <td>10</td>\n",
       "      <td>14</td>\n",
       "      <td>99.11</td>\n",
       "    </tr>\n",
       "    <tr>\n",
       "      <th>10</th>\n",
       "      <td>11</td>\n",
       "      <td>16</td>\n",
       "      <td>99.41</td>\n",
       "    </tr>\n",
       "    <tr>\n",
       "      <th>11</th>\n",
       "      <td>12</td>\n",
       "      <td>4</td>\n",
       "      <td>99.49</td>\n",
       "    </tr>\n",
       "    <tr>\n",
       "      <th>12</th>\n",
       "      <td>13</td>\n",
       "      <td>6</td>\n",
       "      <td>99.60</td>\n",
       "    </tr>\n",
       "    <tr>\n",
       "      <th>13</th>\n",
       "      <td>14</td>\n",
       "      <td>4</td>\n",
       "      <td>99.68</td>\n",
       "    </tr>\n",
       "    <tr>\n",
       "      <th>14</th>\n",
       "      <td>15</td>\n",
       "      <td>4</td>\n",
       "      <td>99.75</td>\n",
       "    </tr>\n",
       "    <tr>\n",
       "      <th>15</th>\n",
       "      <td>16</td>\n",
       "      <td>2</td>\n",
       "      <td>99.79</td>\n",
       "    </tr>\n",
       "    <tr>\n",
       "      <th>16</th>\n",
       "      <td>17</td>\n",
       "      <td>6</td>\n",
       "      <td>99.91</td>\n",
       "    </tr>\n",
       "    <tr>\n",
       "      <th>17</th>\n",
       "      <td>20</td>\n",
       "      <td>1</td>\n",
       "      <td>99.92</td>\n",
       "    </tr>\n",
       "    <tr>\n",
       "      <th>18</th>\n",
       "      <td>21</td>\n",
       "      <td>1</td>\n",
       "      <td>99.94</td>\n",
       "    </tr>\n",
       "    <tr>\n",
       "      <th>19</th>\n",
       "      <td>24</td>\n",
       "      <td>1</td>\n",
       "      <td>99.96</td>\n",
       "    </tr>\n",
       "    <tr>\n",
       "      <th>20</th>\n",
       "      <td>29</td>\n",
       "      <td>1</td>\n",
       "      <td>99.98</td>\n",
       "    </tr>\n",
       "    <tr>\n",
       "      <th>21</th>\n",
       "      <td>32</td>\n",
       "      <td>1</td>\n",
       "      <td>100.00</td>\n",
       "    </tr>\n",
       "  </tbody>\n",
       "</table>\n",
       "</div>"
      ],
      "text/plain": [
       "    campaign   qtd  cum_qtd\n",
       "0          1  2561    48.42\n",
       "1          2  1401    74.91\n",
       "2          3   618    86.59\n",
       "3          4   317    92.59\n",
       "4          5   139    95.22\n",
       "5          6    92    96.96\n",
       "6          7    47    97.84\n",
       "7          8    32    98.45\n",
       "8          9    21    98.85\n",
       "9         10    14    99.11\n",
       "10        11    16    99.41\n",
       "11        12     4    99.49\n",
       "12        13     6    99.60\n",
       "13        14     4    99.68\n",
       "14        15     4    99.75\n",
       "15        16     2    99.79\n",
       "16        17     6    99.91\n",
       "17        20     1    99.92\n",
       "18        21     1    99.94\n",
       "19        24     1    99.96\n",
       "20        29     1    99.98\n",
       "21        32     1   100.00"
      ]
     },
     "execution_count": 16,
     "metadata": {},
     "output_type": "execute_result"
    }
   ],
   "source": [
    "call_base"
   ]
  },
  {
   "cell_type": "markdown",
   "metadata": {},
   "source": [
    ">Baseando-se no grafico a cima e nas informações sobre a base, podemos notar que metade dos contatos com sucesso foram feitos na primeira tentativa e que 75% dos contatos com sucesso foram feitos até a segunda tentativa e que em média são necessários 2,14 contatos para se obter sucesso. Acredito que o numero de contatos ideal é de 1 a 2 contatos."
   ]
  },
  {
   "cell_type": "markdown",
   "metadata": {},
   "source": [
    "## 4. O resultado da campanha anterior tem relevância na campanha atual ?"
   ]
  },
  {
   "cell_type": "code",
   "execution_count": 17,
   "metadata": {},
   "outputs": [],
   "source": [
    "previous_campaing_base = bank.groupby(by='poutcome').agg({ 'previous':'count', 'y':'sum' }).reset_index()\n",
    "previous_campaing_base = previous_campaing_base.rename({ 'previous':'total' }, axis='columns')\n",
    "previous_campaing_base['per_y'] = round(plot_base['y'] / plot_base['total'], 2) * 100"
   ]
  },
  {
   "cell_type": "code",
   "execution_count": 18,
   "metadata": {},
   "outputs": [
    {
     "data": {
      "image/png": "[encoded data removed]",
      "text/plain": [
       "<Figure size 1080x504 with 1 Axes>"
      ]
     },
     "metadata": {},
     "output_type": "display_data"
    }
   ],
   "source": [
    "plt.figure(figsize=[15, 7])\n",
    "\n",
    "plt.title('Adesão à campanha de acordo com o resultado da campanha anterior')\n",
    "plt.bar(previous_campaing_base['poutcome'], 100)\n",
    "plt.bar(previous_campaing_base['poutcome'], previous_campaing_base['per_y'])\n",
    "\n",
    "plt.yticks(range(0, 105, 5))\n",
    "\n",
    "plt.grid(True, axis='y')\n",
    "\n",
    "plt.show()"
   ]
  },
  {
   "cell_type": "code",
   "execution_count": 19,
   "metadata": {},
   "outputs": [
    {
     "name": "stdout",
     "output_type": "stream",
     "text": [
      "f-value: 1621.18\n",
      "p-value: 0.0\n"
     ]
    }
   ],
   "source": [
    "f, p = f_oneway(\n",
    "    bank[bank['poutcome'] == 'failure']['y'],\n",
    "    bank[bank['poutcome'] == 'other']['y'],\n",
    "    bank[bank['poutcome'] == 'success']['y'],\n",
    "    bank[bank['poutcome'] == 'unknown']['y'],\n",
    ")\n",
    "\n",
    "print('f-value: ' + str(round(f, 2)))\n",
    "print('p-value: ' + str(round(p, 2)))"
   ]
  },
  {
   "cell_type": "code",
   "execution_count": 20,
   "metadata": {},
   "outputs": [
    {
     "name": "stdout",
     "output_type": "stream",
     "text": [
      "Multiple Comparison of Means - Tukey HSD,FWER=0.05\n",
      "===============================================\n",
      " group1  group2 meandiff  lower   upper  reject\n",
      "-----------------------------------------------\n",
      "failure  other   0.0408   0.0193  0.0622  True \n",
      "failure success  0.5212   0.4981  0.5442  True \n",
      "failure unknown -0.0345  -0.0464 -0.0226  True \n",
      " other  success  0.4804   0.4532  0.5076  True \n",
      " other  unknown -0.0752   -0.094 -0.0565  True \n",
      "success unknown -0.5556  -0.5762  -0.535  True \n",
      "-----------------------------------------------\n"
     ]
    }
   ],
   "source": [
    "mc = MultiComparison(bank['y'], bank['poutcome'])\n",
    "result = mc.tukeyhsd()\n",
    " \n",
    "print(result)"
   ]
  },
  {
   "cell_type": "markdown",
   "metadata": {},
   "source": [
    ">Baseando-se no grafico vemos que quem possui o resultado de `failure` na campanha anterior possui uma taxa de conversão maior que os outros resultados e através do teste de hipotese podemos perceber que a diferença entre eles é estatiscamente relevante."
   ]
  },
  {
   "cell_type": "markdown",
   "metadata": {},
   "source": [
    "## 5. Qual o fator determinante para que o banco exija um seguro de crédito ?\n",
    "PS: Como dito no arquivo [README](../README.md) para responder essa pergunta vamos utilizar a premissa de que os clientes que precisariam de um seguro de crédito são aqueles que ja não possuem crédito pré aprovado."
   ]
  },
  {
   "cell_type": "code",
   "execution_count": 21,
   "metadata": {},
   "outputs": [
    {
     "data": {
      "image/png": "[encoded data removed]",
      "text/plain": [
       "<Figure size 432x288 with 2 Axes>"
      ]
     },
     "metadata": {},
     "output_type": "display_data"
    }
   ],
   "source": [
    "plt.title('Correlação das variaveis com a variavel Default')\n",
    "sns.heatmap(\n",
    "    round(bank.corr()[['default']]),\n",
    "    annot=True, fmt='.2f', vmax=1, vmin=-1, cmap=sns.cubehelix_palette(20))\n",
    "\n",
    "plt.show()"
   ]
  },
  {
   "cell_type": "code",
   "execution_count": 22,
   "metadata": {},
   "outputs": [
    {
     "data": {
      "text/plain": [
       "default\n",
       "0    44396\n",
       "1      815\n",
       "Name: age, dtype: int64"
      ]
     },
     "execution_count": 22,
     "metadata": {},
     "output_type": "execute_result"
    }
   ],
   "source": [
    "bank.groupby(by='default')['age'].count()"
   ]
  },
  {
   "cell_type": "markdown",
   "metadata": {},
   "source": [
    "Como existem poucos exemplos de pessoas com limite de crédito pré aprovado vamos utilizar a técnica de Under-Sampling para equilibrar a base."
   ]
  },
  {
   "cell_type": "code",
   "execution_count": 23,
   "metadata": {},
   "outputs": [],
   "source": [
    "X = bank[['age', 'balance', 'housing', 'loan', 'campaign', 'previous']]\n",
    "y = bank['default']"
   ]
  },
  {
   "cell_type": "code",
   "execution_count": 24,
   "metadata": {},
   "outputs": [],
   "source": [
    "sampler = RandomUnderSampler()\n",
    "X_s, y_s = sampler.fit_sample(X, y)"
   ]
  },
  {
   "cell_type": "markdown",
   "metadata": {},
   "source": [
    "Utilizando um Random Forest vamos identificar quais são as variaveis que melhor ajudam a entender quando se tem crédito pré-aprovado ou não."
   ]
  },
  {
   "cell_type": "code",
   "execution_count": 25,
   "metadata": {},
   "outputs": [],
   "source": [
    "rfc = RandomForestClassifier(n_estimators=4).fit(X_s, y_s)"
   ]
  },
  {
   "cell_type": "code",
   "execution_count": 26,
   "metadata": {},
   "outputs": [
    {
     "name": "stdout",
     "output_type": "stream",
     "text": [
      "R-squared: 0.94\n",
      "Precision: 0.94\n",
      "Recall: 0.9\n",
      "Precision: 0.98\n"
     ]
    }
   ],
   "source": [
    "print('R-squared: ' + str(round(rfc.score(X_s, y_s), 2)))\n",
    "print('Precision: ' + str(round(accuracy_score(y_s, rfc.predict(X_s)),2)))\n",
    "print('Recall: ' + str(round(recall_score(y_s, rfc.predict(X_s)),2)))\n",
    "print('Precision: ' + str(round(precision_score(y_s, rfc.predict(X_s)),2)))"
   ]
  },
  {
   "cell_type": "code",
   "execution_count": 27,
   "metadata": {},
   "outputs": [
    {
     "data": {
      "text/html": [
       "<div>\n",
       "<style scoped>\n",
       "    .dataframe tbody tr th:only-of-type {\n",
       "        vertical-align: middle;\n",
       "    }\n",
       "\n",
       "    .dataframe tbody tr th {\n",
       "        vertical-align: top;\n",
       "    }\n",
       "\n",
       "    .dataframe thead th {\n",
       "        text-align: right;\n",
       "    }\n",
       "</style>\n",
       "<table border=\"1\" class=\"dataframe\">\n",
       "  <thead>\n",
       "    <tr style=\"text-align: right;\">\n",
       "      <th></th>\n",
       "      <th>features</th>\n",
       "      <th>importance</th>\n",
       "    </tr>\n",
       "  </thead>\n",
       "  <tbody>\n",
       "    <tr>\n",
       "      <th>1</th>\n",
       "      <td>balance</td>\n",
       "      <td>0.642608</td>\n",
       "    </tr>\n",
       "    <tr>\n",
       "      <th>0</th>\n",
       "      <td>age</td>\n",
       "      <td>0.203861</td>\n",
       "    </tr>\n",
       "    <tr>\n",
       "      <th>4</th>\n",
       "      <td>campaign</td>\n",
       "      <td>0.082311</td>\n",
       "    </tr>\n",
       "    <tr>\n",
       "      <th>3</th>\n",
       "      <td>loan</td>\n",
       "      <td>0.025476</td>\n",
       "    </tr>\n",
       "    <tr>\n",
       "      <th>2</th>\n",
       "      <td>housing</td>\n",
       "      <td>0.024719</td>\n",
       "    </tr>\n",
       "    <tr>\n",
       "      <th>5</th>\n",
       "      <td>previous</td>\n",
       "      <td>0.021026</td>\n",
       "    </tr>\n",
       "  </tbody>\n",
       "</table>\n",
       "</div>"
      ],
      "text/plain": [
       "   features  importance\n",
       "1   balance    0.642608\n",
       "0       age    0.203861\n",
       "4  campaign    0.082311\n",
       "3      loan    0.025476\n",
       "2   housing    0.024719\n",
       "5  previous    0.021026"
      ]
     },
     "execution_count": 27,
     "metadata": {},
     "output_type": "execute_result"
    }
   ],
   "source": [
    "pd.DataFrame({\n",
    "    'features': ['age', 'balance', 'housing', 'loan', 'campaign', 'previous'],\n",
    "    'importance': rfc.feature_importances_\n",
    "}).sort_values(by='importance', ascending=False)"
   ]
  },
  {
   "cell_type": "markdown",
   "metadata": {},
   "source": [
    "> A partir do metodo feature importance do Random forest podemos inferir que o saldo na conta do cliente é o fator mais determinate para que o banco exija um seguro de crédito"
   ]
  },
  {
   "cell_type": "markdown",
   "metadata": {},
   "source": [
    "## 6. Quais são as características mais proeminentes de um cliente que possua empréstimo imobiliário ?"
   ]
  },
  {
   "cell_type": "code",
   "execution_count": 28,
   "metadata": {},
   "outputs": [
    {
     "data": {
      "image/png": "[encoded data removed]",
      "text/plain": [
       "<Figure size 432x288 with 2 Axes>"
      ]
     },
     "metadata": {},
     "output_type": "display_data"
    }
   ],
   "source": [
    "plt.title('Correlação das variaveis com a variavel housing')\n",
    "sns.heatmap(\n",
    "    round(bank.corr()[['housing']]),\n",
    "    annot=True, fmt='.2f', vmax=1, vmin=-1, cmap=sns.cubehelix_palette(20))\n",
    "\n",
    "plt.show()"
   ]
  },
  {
   "cell_type": "code",
   "execution_count": 29,
   "metadata": {},
   "outputs": [
    {
     "data": {
      "text/plain": [
       "default\n",
       "0    44396\n",
       "1      815\n",
       "Name: housing, dtype: int64"
      ]
     },
     "execution_count": 29,
     "metadata": {},
     "output_type": "execute_result"
    }
   ],
   "source": [
    "bank.groupby(by='default')['housing'].count()"
   ]
  },
  {
   "cell_type": "code",
   "execution_count": 30,
   "metadata": {},
   "outputs": [],
   "source": [
    "X = bank[['age', 'balance', 'default', 'loan', 'campaign', 'previous']]\n",
    "y = bank['housing']"
   ]
  },
  {
   "cell_type": "code",
   "execution_count": 31,
   "metadata": {},
   "outputs": [],
   "source": [
    "sampler = RandomUnderSampler()\n",
    "X_s, y_s = sampler.fit_sample(X, y)"
   ]
  },
  {
   "cell_type": "code",
   "execution_count": 32,
   "metadata": {},
   "outputs": [],
   "source": [
    "rfc = RandomForestClassifier(n_estimators=4).fit(X_s, y_s)"
   ]
  },
  {
   "cell_type": "code",
   "execution_count": 33,
   "metadata": {},
   "outputs": [
    {
     "name": "stdout",
     "output_type": "stream",
     "text": [
      "R-squared: 0.89\n",
      "Precision: 0.89\n",
      "Recall: 0.83\n",
      "Precision: 0.94\n"
     ]
    }
   ],
   "source": [
    "print('R-squared: ' + str(round(rfc.score(X_s, y_s), 2)))\n",
    "print('Precision: ' + str(round(accuracy_score(y_s, rfc.predict(X_s)),2)))\n",
    "print('Recall: ' + str(round(recall_score(y_s, rfc.predict(X_s)),2)))\n",
    "print('Precision: ' + str(round(precision_score(y_s, rfc.predict(X_s)),2)))"
   ]
  },
  {
   "cell_type": "code",
   "execution_count": 34,
   "metadata": {},
   "outputs": [
    {
     "data": {
      "text/html": [
       "<div>\n",
       "<style scoped>\n",
       "    .dataframe tbody tr th:only-of-type {\n",
       "        vertical-align: middle;\n",
       "    }\n",
       "\n",
       "    .dataframe tbody tr th {\n",
       "        vertical-align: top;\n",
       "    }\n",
       "\n",
       "    .dataframe thead th {\n",
       "        text-align: right;\n",
       "    }\n",
       "</style>\n",
       "<table border=\"1\" class=\"dataframe\">\n",
       "  <thead>\n",
       "    <tr style=\"text-align: right;\">\n",
       "      <th></th>\n",
       "      <th>features</th>\n",
       "      <th>importance</th>\n",
       "    </tr>\n",
       "  </thead>\n",
       "  <tbody>\n",
       "    <tr>\n",
       "      <th>1</th>\n",
       "      <td>balance</td>\n",
       "      <td>0.694605</td>\n",
       "    </tr>\n",
       "    <tr>\n",
       "      <th>0</th>\n",
       "      <td>age</td>\n",
       "      <td>0.197976</td>\n",
       "    </tr>\n",
       "    <tr>\n",
       "      <th>4</th>\n",
       "      <td>campaign</td>\n",
       "      <td>0.065380</td>\n",
       "    </tr>\n",
       "    <tr>\n",
       "      <th>5</th>\n",
       "      <td>previous</td>\n",
       "      <td>0.032173</td>\n",
       "    </tr>\n",
       "    <tr>\n",
       "      <th>3</th>\n",
       "      <td>loan</td>\n",
       "      <td>0.006951</td>\n",
       "    </tr>\n",
       "    <tr>\n",
       "      <th>2</th>\n",
       "      <td>default</td>\n",
       "      <td>0.002914</td>\n",
       "    </tr>\n",
       "  </tbody>\n",
       "</table>\n",
       "</div>"
      ],
      "text/plain": [
       "   features  importance\n",
       "1   balance    0.694605\n",
       "0       age    0.197976\n",
       "4  campaign    0.065380\n",
       "5  previous    0.032173\n",
       "3      loan    0.006951\n",
       "2   default    0.002914"
      ]
     },
     "execution_count": 34,
     "metadata": {},
     "output_type": "execute_result"
    }
   ],
   "source": [
    "pd.DataFrame({\n",
    "    'features': ['age', 'balance', 'default', 'loan', 'campaign', 'previous'],\n",
    "    'importance': rfc.feature_importances_\n",
    "}).sort_values(by='importance', ascending=False)"
   ]
  },
  {
   "cell_type": "markdown",
   "metadata": {},
   "source": [
    "> A partir do algoritmo de machine learning as princiapis características que ajudam a definir um clieque que possua crédito imobiliario são o saldo na conta e a idade"
   ]
  }
 ],
 "metadata": {
  "kernelspec": {
   "display_name": "Python 3",
   "language": "python",
   "name": "python3"
  },
  "language_info": {
   "codemirror_mode": {
    "name": "ipython",
    "version": 3
   },
   "file_extension": ".py",
   "mimetype": "text/x-python",
   "name": "python",
   "nbconvert_exporter": "python",
   "pygments_lexer": "ipython3",
   "version": "3.6.7"
  }
 },
 "nbformat": 4,
 "nbformat_minor": 2
}
